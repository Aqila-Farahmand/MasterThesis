{
 "cells": [
  {
   "cell_type": "code",
   "source": [
    "!pip install datasets\n",
    "!pip install colorama"
   ],
   "metadata": {
    "id": "AOA40o3T8TPA",
    "colab": {
     "base_uri": "https://localhost:8080/"
    },
    "outputId": "7733c396-6a60-4729-bd2d-f49f7c65ccd0"
   },
   "id": "AOA40o3T8TPA",
   "execution_count": null,
   "outputs": []
  },
  {
   "cell_type": "code",
   "execution_count": null,
   "id": "d0c4206f-a9dc-470b-bb55-415584f2116f",
   "metadata": {
    "id": "d0c4206f-a9dc-470b-bb55-415584f2116f"
   },
   "source": [
    "import os\n",
    "import gc\n",
    "import copy\n",
    "import time\n",
    "import random\n",
    "import string\n",
    "import joblib\n",
    "\n",
    "# For data manipulation\n",
    "import numpy as np\n",
    "import pandas as pd\n",
    "\n",
    "# Pytorch Imports\n",
    "import torch\n",
    "import torch.nn as nn\n",
    "import torch.optim as optim\n",
    "from torch.optim import lr_scheduler\n",
    "from torch.utils.data import Dataset, DataLoader\n",
    "\n",
    "# Utils\n",
    "from tqdm import tqdm\n",
    "from collections import defaultdict\n",
    "\n",
    "# Sklearn Imports\n",
    "from sklearn.preprocessing import LabelEncoder\n",
    "from sklearn.model_selection import GroupKFold, KFold\n",
    "\n",
    "# For Transformer Models\n",
    "from transformers import AutoTokenizer, AutoModel, AutoConfig, AdamW\n",
    "from transformers import DataCollatorWithPadding\n",
    "import datasets\n",
    "# For colored terminal text\n",
    "from colorama import Fore, Back, Style\n",
    "b_ = Fore.BLUE\n",
    "y_ = Fore.YELLOW\n",
    "sr_ = Style.RESET_ALL\n",
    "\n",
    "# Suppress warnings\n",
    "import warnings\n",
    "warnings.filterwarnings(\"ignore\")\n",
    "\n",
    "# For descriptive error messages\n",
    "os.environ['CUDA_LAUNCH_BLOCKING'] = \"1\""
   ],
   "outputs": []
  },
  {
   "cell_type": "code",
   "source": [
    "from google.colab import drive\n",
    "\n",
    "drive.mount('/content/drive')\n",
    "\n",
    "model=\"drive/MyDrive/thesis-work/model_local\""
   ],
   "metadata": {
    "colab": {
     "base_uri": "https://localhost:8080/"
    },
    "id": "e_1Bi9rS9iaG",
    "outputId": "9f18e975-1d06-4a5b-bf00-0423e1235f88"
   },
   "id": "e_1Bi9rS9iaG",
   "execution_count": null,
   "outputs": []
  },
  {
   "cell_type": "code",
   "execution_count": null,
   "id": "ec0aa632-8739-4e63-bde0-5f4fc123f891",
   "metadata": {
    "id": "ec0aa632-8739-4e63-bde0-5f4fc123f891"
   },
   "source": [
    "CONFIG = {\"seed\": 2022,\n",
    "          \"epochs\": 3,\n",
    "          \"model_name\": \"drive/MyDrive/thesis-work/model_local\",\n",
    "          \"train_batch_size\": 8,\n",
    "          \"valid_batch_size\": 16,\n",
    "          \"max_length\": 512,\n",
    "          \"learning_rate\": 1e-5,\n",
    "          \"scheduler\": 'CosineAnnealingLR',\n",
    "          \"min_lr\": 1e-6,\n",
    "          \"T_max\": 500,\n",
    "          \"weight_decay\": 1e-6,\n",
    "          \"n_accumulate\": 1,\n",
    "          \"num_classes\": 2,\n",
    "          \"device\": torch.device(\"cuda:0\" if torch.cuda.is_available() else \"cpu\")\n",
    "          }\n",
    "\n",
    "CONFIG[\"tokenizer\"] = AutoTokenizer.from_pretrained(CONFIG['model_name'])"
   ],
   "outputs": []
  },
  {
   "cell_type": "code",
   "source": [
    "df = pd.read_csv('trafficcontrol_data.csv')\n",
    "\n",
    "# Drop NaN values and reset index of dataframe\n",
    "df = df[df['text'].notna()]\n",
    "df = df.reset_index()\n",
    "df.drop(columns=[\"index\"] , inplace=True)"
   ],
   "metadata": {
    "id": "QbHwgWfpXBQh"
   },
   "id": "QbHwgWfpXBQh",
   "execution_count": null,
   "outputs": []
  },
  {
   "cell_type": "code",
   "source": [
    "df"
   ],
   "metadata": {
    "colab": {
     "base_uri": "https://localhost:8080/",
     "height": 332
    },
    "id": "WPtXvD6H_7eq",
    "outputId": "b4f86c25-0fe4-41bd-ca04-5ecef35f83f8"
   },
   "id": "WPtXvD6H_7eq",
   "execution_count": null,
   "outputs": []
  },
  {
   "cell_type": "code",
   "execution_count": null,
   "id": "fe395ab9-7e73-4a70-96b4-d012182672f5",
   "metadata": {
    "id": "fe395ab9-7e73-4a70-96b4-d012182672f5"
   },
   "source": [
    "class MeanPooling(nn.Module):\n",
    "    def __init__(self):\n",
    "        super(MeanPooling, self).__init__()\n",
    "\n",
    "    def forward(self, last_hidden_state, attention_mask):\n",
    "        input_mask_expanded = attention_mask.unsqueeze(-1).expand(last_hidden_state.size()).float()\n",
    "        sum_embeddings = torch.sum(last_hidden_state * input_mask_expanded, 1)\n",
    "        sum_mask = input_mask_expanded.sum(1)\n",
    "        sum_mask = torch.clamp(sum_mask, min=1e-9)\n",
    "        mean_embeddings = sum_embeddings / sum_mask\n",
    "        return mean_embeddings"
   ],
   "outputs": []
  },
  {
   "cell_type": "code",
   "execution_count": null,
   "id": "ccb9a67e-b935-43a3-a5da-659d59f3f0ad",
   "metadata": {
    "id": "ccb9a67e-b935-43a3-a5da-659d59f3f0ad"
   },
   "source": [
    "class TD_Model(nn.Module):\n",
    "    def __init__(self, model_name):\n",
    "        super(TD_Model, self).__init__()\n",
    "        self.model = AutoModel.from_pretrained(model_name)\n",
    "        self.config = AutoConfig.from_pretrained(model_name)\n",
    "        self.drop = nn.Dropout(p=0.2)\n",
    "        self.pooler = MeanPooling()\n",
    "        self.fc = nn.Linear(self.config.hidden_size, CONFIG['num_classes'])\n",
    "\n",
    "    def forward(self, ids, mask):\n",
    "        out = self.model(input_ids=ids,attention_mask=mask,\n",
    "                         output_hidden_states=False)\n",
    "        out = self.pooler(out.last_hidden_state, mask)\n",
    "        out = self.drop(out)\n",
    "        outputs = self.fc(out)\n",
    "        return outputs"
   ],
   "outputs": []
  },
  {
   "cell_type": "markdown",
   "id": "5169cd29",
   "metadata": {
    "id": "5169cd29"
   },
   "source": [
    "<h2> Testing Inference </h2>\n"
   ]
  },
  {
   "cell_type": "code",
   "execution_count": null,
   "id": "c8f36497-0ef8-4e3c-8c9e-50c92b92e7a3",
   "metadata": {
    "id": "c8f36497-0ef8-4e3c-8c9e-50c92b92e7a3"
   },
   "source": [
    "import warnings,transformers,logging,torch\n",
    "\n",
    "warnings.simplefilter('ignore')\n",
    "logging.disable(logging.WARNING)"
   ],
   "outputs": []
  },
  {
   "cell_type": "code",
   "execution_count": null,
   "id": "1b25e683-7c36-487f-ba36-905d9b04ba13",
   "metadata": {
    "id": "1b25e683-7c36-487f-ba36-905d9b04ba13"
   },
   "source": [
    "test_df = df"
   ],
   "outputs": []
  },
  {
   "cell_type": "code",
   "execution_count": null,
   "id": "f6be00e4-81ad-4264-b42a-afff577eff59",
   "metadata": {
    "id": "f6be00e4-81ad-4264-b42a-afff577eff59",
    "outputId": "d4a9156f-baa7-4cca-ced5-6c1e19788d9d",
    "colab": {
     "base_uri": "https://localhost:8080/",
     "height": 332
    }
   },
   "source": [
    "test_df"
   ],
   "outputs": []
  },
  {
   "cell_type": "code",
   "execution_count": null,
   "id": "690f08dd-983c-429c-a6b4-86c20e540b21",
   "metadata": {
    "id": "690f08dd-983c-429c-a6b4-86c20e540b21"
   },
   "source": [
    "class TD_TestDataset(Dataset):\n",
    "    def __init__(self, df, tokenizer, max_length):\n",
    "        self.df = df\n",
    "        self.max_len = max_length\n",
    "        self.tokenizer = tokenizer\n",
    "        self.text = df['text'].values\n",
    "\n",
    "    def __len__(self):\n",
    "        return len(self.df)\n",
    "\n",
    "    def __getitem__(self, index):\n",
    "        text = self.text[index]\n",
    "        inputs = self.tokenizer.encode_plus(\n",
    "                        text,\n",
    "                        truncation=True,\n",
    "                        add_special_tokens=True,\n",
    "                        max_length=self.max_len\n",
    "                    )\n",
    "\n",
    "        samples = {\n",
    "            'input_ids': inputs['input_ids'],\n",
    "            'attention_mask': inputs['attention_mask'],\n",
    "\n",
    "        }\n",
    "\n",
    "        if 'token_type_ids' in inputs:\n",
    "            samples['token_type_ids'] = inputs['token_type_ids']\n",
    "\n",
    "        return samples"
   ],
   "outputs": []
  },
  {
   "cell_type": "code",
   "execution_count": null,
   "id": "b437f36d-a3a6-4690-a4c5-7c8567b184c8",
   "metadata": {
    "id": "b437f36d-a3a6-4690-a4c5-7c8567b184c8"
   },
   "source": [
    "collate_fn = DataCollatorWithPadding(tokenizer=CONFIG['tokenizer'])\n",
    "\n",
    "softmax = nn.Softmax(dim=1)\n",
    "model = TD_Model(CONFIG['model_name'])"
   ],
   "outputs": []
  },
  {
   "cell_type": "code",
   "execution_count": null,
   "id": "c310d8ae-a37e-4eec-84ab-75cf6273df04",
   "metadata": {
    "id": "c310d8ae-a37e-4eec-84ab-75cf6273df04"
   },
   "source": [
    "def prepare_test_loader(test_df):\n",
    "    test_dataset = TD_TestDataset(test_df,\n",
    "                                   tokenizer=CONFIG['tokenizer'],\n",
    "                                   max_length=CONFIG['max_length'])\n",
    "\n",
    "    test_loader = DataLoader(test_dataset,\n",
    "                             batch_size=CONFIG['valid_batch_size'],\n",
    "                             collate_fn=collate_fn,\n",
    "                             num_workers=2,\n",
    "                             shuffle=False,\n",
    "                             pin_memory=True,\n",
    "                             drop_last=False)\n",
    "    return test_loader\n",
    "\n",
    "test_loader = prepare_test_loader(test_df)"
   ],
   "outputs": []
  },
  {
   "cell_type": "code",
   "execution_count": null,
   "id": "42c35623-2819-4bad-a2bc-6fde708a1420",
   "metadata": {
    "id": "42c35623-2819-4bad-a2bc-6fde708a1420"
   },
   "source": [
    "@torch.no_grad()\n",
    "def inference(test_loader, model, device):\n",
    "    preds = []\n",
    "    preds_target = []\n",
    "    model.eval()\n",
    "    model.to(device)\n",
    "\n",
    "    bar = tqdm(enumerate(test_loader), total=len(test_loader))\n",
    "\n",
    "    for step, data in bar:\n",
    "        ids = data['input_ids'].to(device, dtype = torch.long)\n",
    "        mask = data['attention_mask'].to(device, dtype = torch.long)\n",
    "\n",
    "        output = model(ids, mask)\n",
    "        y_preds = softmax(torch.tensor(output.to('cpu'))).numpy()\n",
    "        pred_target = torch.argmax(output, dim=-1).flatten().tolist()\n",
    "\n",
    "        preds.append(y_preds)\n",
    "        preds_target.append(pred_target)\n",
    "    predictions = np.concatenate(preds)\n",
    "    predictions_label = np.concatenate(preds_target)\n",
    "    return predictions , predictions_label"
   ],
   "outputs": []
  },
  {
   "cell_type": "code",
   "execution_count": null,
   "id": "601c0907-fc9a-4ede-9836-ed7df661b947",
   "metadata": {
    "id": "601c0907-fc9a-4ede-9836-ed7df661b947",
    "outputId": "5019c33f-6292-42f5-bb7d-d90d1559446d",
    "colab": {
     "base_uri": "https://localhost:8080/"
    }
   },
   "source": [
    "predictions = []\n",
    "predictions_labels = []\n",
    "\n",
    "predictions, predictions_labels = inference(test_loader, model, CONFIG['device'])\n",
    "\n",
    "# Clean up\n",
    "torch.cuda.empty_cache()"
   ],
   "outputs": []
  },
  {
   "cell_type": "code",
   "source": [
    "#deberta model inference\n",
    "deberta_predictions = []\n",
    "deberta_predictions_labels = []\n",
    "\n",
    "\n",
    "\n",
    "for fold in range(0, CONFIG['n_fold']):\n",
    "    print(\"Fold {}\".format(fold))\n",
    "\n",
    "    state = torch.load(f'{HASH_NAME}-Loss-Fold-{fold}.bin')\n",
    "    model.load_state_dict(state)\n",
    "\n",
    "    prediction, predictions_label = inference(test_loader, model, CONFIG['device'])\n",
    "    deberta_predictions.append(prediction)\n",
    "    deberta_predictions_labels.append(predictions_label)\n",
    "    del state, prediction; gc.collect()\n",
    "    torch.cuda.empty_cache()\n",
    "del model"
   ],
   "metadata": {
    "id": "7JvB62BkBQGk",
    "colab": {
     "base_uri": "https://localhost:8080/",
     "height": 211
    },
    "outputId": "bf7a013c-c1b9-4074-9f8d-6646846a09d3"
   },
   "id": "7JvB62BkBQGk",
   "execution_count": null,
   "outputs": []
  },
  {
   "cell_type": "code",
   "execution_count": null,
   "id": "cc393a64-0fb7-4f65-a69a-bdccddf89edb",
   "metadata": {
    "id": "cc393a64-0fb7-4f65-a69a-bdccddf89edb",
    "outputId": "201f36ce-914c-48d0-c14f-8922613caffd",
    "colab": {
     "base_uri": "https://localhost:8080/"
    }
   },
   "source": [
    "len(predictions)"
   ],
   "outputs": []
  },
  {
   "cell_type": "code",
   "execution_count": null,
   "id": "b3348dbf-e8d9-46c0-be55-89592c29445e",
   "metadata": {
    "id": "b3348dbf-e8d9-46c0-be55-89592c29445e",
    "outputId": "f16d89b1-76c9-49f9-cbff-fccb6c511ccc",
    "colab": {
     "base_uri": "https://localhost:8080/"
    }
   },
   "source": [
    "predictions"
   ],
   "outputs": []
  },
  {
   "cell_type": "code",
   "execution_count": null,
   "id": "94b2a1d7-8f4e-417d-9e02-570d4107feda",
   "metadata": {
    "id": "94b2a1d7-8f4e-417d-9e02-570d4107feda"
   },
   "source": [
    "test_df[\"prediction_0\"] = predictions[:, 0]"
   ],
   "outputs": []
  },
  {
   "cell_type": "code",
   "execution_count": null,
   "id": "1b4c2333-024e-47ca-8828-5c5d19ad07cb",
   "metadata": {
    "id": "1b4c2333-024e-47ca-8828-5c5d19ad07cb"
   },
   "source": [
    "test_df[\"prediction_1\"] = predictions[:, 1]"
   ],
   "outputs": []
  },
  {
   "cell_type": "code",
   "execution_count": null,
   "id": "c4473d1d-6485-49e6-88bf-6aa3f05326cd",
   "metadata": {
    "id": "c4473d1d-6485-49e6-88bf-6aa3f05326cd",
    "outputId": "2ae782af-5839-442b-d6bd-ea07a6b2d057",
    "colab": {
     "base_uri": "https://localhost:8080/",
     "height": 332
    }
   },
   "source": [
    "test_df"
   ],
   "outputs": []
  },
  {
   "cell_type": "code",
   "execution_count": null,
   "id": "68812cae-b8d4-4f6d-bee3-cb7a3ff24441",
   "metadata": {
    "id": "68812cae-b8d4-4f6d-bee3-cb7a3ff24441",
    "outputId": "62f3948d-c735-4789-8d72-54b554098576",
    "colab": {
     "base_uri": "https://localhost:8080/"
    }
   },
   "source": [
    "len(test_df)"
   ],
   "outputs": []
  },
  {
   "cell_type": "code",
   "execution_count": null,
   "id": "806c1731-776c-4105-90a1-5e9e6cb29b14",
   "metadata": {
    "id": "806c1731-776c-4105-90a1-5e9e6cb29b14"
   },
   "source": [
    "test_df['Max'] = test_df[['prediction_0','prediction_1']].idxmax(axis=1)"
   ],
   "outputs": []
  },
  {
   "cell_type": "code",
   "execution_count": null,
   "id": "6cbb0e15-dc91-4785-adcd-bd9c1676d226",
   "metadata": {
    "id": "6cbb0e15-dc91-4785-adcd-bd9c1676d226"
   },
   "source": [
    "test_df[\"pred\"] = test_df['Max'].apply(lambda x: x.replace(\"prediction_0\", \"0\"))"
   ],
   "outputs": []
  },
  {
   "cell_type": "code",
   "execution_count": null,
   "id": "c1ef524d-f2f0-41d3-b0f1-3f61d47d5448",
   "metadata": {
    "id": "c1ef524d-f2f0-41d3-b0f1-3f61d47d5448"
   },
   "source": [
    "test_df[\"pred\"] = test_df['pred'].apply(lambda x: x.replace(\"prediction_1\", \"1\"))\n"
   ],
   "outputs": []
  },
  {
   "cell_type": "code",
   "execution_count": null,
   "id": "72170b82-c414-41da-8f02-b41c13aa84cb",
   "metadata": {
    "id": "72170b82-c414-41da-8f02-b41c13aa84cb"
   },
   "source": [
    "test_df[\"pred\"] = test_df[\"pred\"].astype(int)"
   ],
   "outputs": []
  },
  {
   "cell_type": "code",
   "execution_count": null,
   "id": "f26e7e7b-5712-4bae-b8fd-81586e97a5fc",
   "metadata": {
    "id": "f26e7e7b-5712-4bae-b8fd-81586e97a5fc",
    "outputId": "e036391f-b394-4325-b8fa-a274c4ad3476",
    "colab": {
     "base_uri": "https://localhost:8080/",
     "height": 332
    }
   },
   "source": [
    "test_df"
   ],
   "outputs": []
  },
  {
   "cell_type": "code",
   "source": [
    "#add the lable from the repository into the data after inference to use it as a ground truth\n",
    "labled_test_df = pd.read_csv('labled_data.csv')\n",
    "labled_test_df"
   ],
   "metadata": {
    "colab": {
     "base_uri": "https://localhost:8080/",
     "height": 424
    },
    "id": "HbSnUIKZlQVW",
    "outputId": "6560015a-0377-4bfa-9a14-1b1679512019"
   },
   "id": "HbSnUIKZlQVW",
   "execution_count": null,
   "outputs": []
  },
  {
   "cell_type": "code",
   "execution_count": null,
   "id": "2ce8ca5b-1611-400a-98ea-590e18e3e4d6",
   "metadata": {
    "id": "2ce8ca5b-1611-400a-98ea-590e18e3e4d6",
    "colab": {
     "base_uri": "https://localhost:8080/"
    },
    "outputId": "44000e45-6d2a-4a1d-bea9-d6e32c2a998c"
   },
   "source": [
    "from sklearn.metrics import confusion_matrix\n",
    "cf_matrix = confusion_matrix(test_df[\"label\"].values, test_df[\"pred\"].values)\n",
    "\n",
    "print(cf_matrix)"
   ],
   "outputs": []
  },
  {
   "cell_type": "code",
   "execution_count": null,
   "id": "f07ff2ad-0501-46c3-b5c8-7f414a2e7b83",
   "metadata": {
    "id": "f07ff2ad-0501-46c3-b5c8-7f414a2e7b83",
    "outputId": "6e497844-b4fc-491c-b7fa-89136f4a9d1e",
    "colab": {
     "base_uri": "https://localhost:8080/",
     "height": 530
    }
   },
   "source": [
    "import seaborn as sns\n",
    "import matplotlib.pyplot as plt\n",
    "ax = sns.heatmap(cf_matrix/np.sum(cf_matrix), annot=True,\n",
    "            fmt='.2%', cmap='Blues')\n",
    "\n",
    "ax.set_title('NonTD vs TD \\n\\n');\n",
    "ax.set_xlabel('\\nPredicted Values')\n",
    "ax.set_ylabel('Actual Values ');\n",
    "\n",
    "## Ticket labels - List must be in alphabetical order\n",
    "ax.xaxis.set_ticklabels(['False(NonTD)','True(TD)'])\n",
    "ax.yaxis.set_ticklabels(['False(NonTD)','True(TD)'])\n",
    "\n",
    "## Display the visualization of the Confusion Matrix.\n",
    "plt.show()"
   ],
   "outputs": []
  },
  {
   "cell_type": "code",
   "execution_count": null,
   "id": "b9228c89-6cae-4a8e-a433-e7b5328dba1e",
   "metadata": {
    "id": "b9228c89-6cae-4a8e-a433-e7b5328dba1e",
    "outputId": "d67baec2-0f0d-429f-f935-8f92093665cb",
    "colab": {
     "base_uri": "https://localhost:8080/"
    }
   },
   "source": [
    "from sklearn.metrics import classification_report\n",
    "\n",
    "\n",
    "print(classification_report(test_df[\"label\"].values, test_df[\"pred\"].values))"
   ],
   "outputs": []
  },
  {
   "cell_type": "code",
   "execution_count": null,
   "id": "61a155c0-14f8-4918-8b58-8ebc91c06d5f",
   "metadata": {
    "id": "61a155c0-14f8-4918-8b58-8ebc91c06d5f"
   },
   "source": [
    "test_df[[\"text\",\"pred\",\"label\"]].to_csv(\"Test_Inference_data.csv\")"
   ],
   "outputs": []
  }
 ],
 "metadata": {
  "kernelspec": {
   "display_name": "Python 3 (ipykernel)",
   "language": "python",
   "name": "python3"
  },
  "language_info": {
   "codemirror_mode": {
    "name": "ipython",
    "version": 3
   },
   "file_extension": ".py",
   "mimetype": "text/x-python",
   "name": "python",
   "nbconvert_exporter": "python",
   "pygments_lexer": "ipython3",
   "version": "3.8.12"
  },
  "vscode": {
   "interpreter": {
    "hash": "a64f21293159cd9c4e596ef7fd6c17a9c99d13712885c299cb3370e7a4d97830"
   }
  },
  "colab": {
   "provenance": []
  }
 },
 "nbformat": 4,
 "nbformat_minor": 5
}
